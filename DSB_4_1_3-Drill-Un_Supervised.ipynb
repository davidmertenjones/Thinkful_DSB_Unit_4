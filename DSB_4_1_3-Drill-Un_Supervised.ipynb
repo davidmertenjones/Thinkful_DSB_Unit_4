{
 "cells": [
  {
   "cell_type": "markdown",
   "metadata": {},
   "source": [
    "# Drill: Unsupervised or Supervised?"
   ]
  },
  {
   "cell_type": "markdown",
   "metadata": {},
   "source": [
    "## Define the likelihood that an individual will contract a specific disease\n",
    "\n",
    "Supervised - There is a target variable, and other factors can be modeled to predict that variable.\n",
    "\n",
    "## Translate a set of images into variables for modeling\n",
    "\n",
    "Unsupervised - There is no predefined outcome variable.\n",
    "\n",
    "## An ecommerce company wants to identify power users\n",
    "\n",
    "Supervised/Unsupervised - There is an outcome variable, but the exact nature of it may be unclear without using unsupervised modeling to define what exactly a \"power user\" is.\n",
    "\n",
    "## That same company wants to see shopping patterns in users\n",
    "\n",
    "Unsupervised - A clustering approach may be helpful to determine what categories of customers exist.\n",
    "\n",
    "## You want to reduce the number of variables inputting into your random forest model\n",
    "\n",
    "Supervised/Unsupevised - PCA may be helpful here.\n"
   ]
  },
  {
   "cell_type": "code",
   "execution_count": null,
   "metadata": {},
   "outputs": [],
   "source": []
  }
 ],
 "metadata": {
  "kernelspec": {
   "display_name": "Python 3",
   "language": "python",
   "name": "python3"
  },
  "language_info": {
   "codemirror_mode": {
    "name": "ipython",
    "version": 3
   },
   "file_extension": ".py",
   "mimetype": "text/x-python",
   "name": "python",
   "nbconvert_exporter": "python",
   "pygments_lexer": "ipython3",
   "version": "3.6.5"
  },
  "toc": {
   "base_numbering": 1,
   "nav_menu": {},
   "number_sections": true,
   "sideBar": true,
   "skip_h1_title": false,
   "title_cell": "Table of Contents",
   "title_sidebar": "Contents",
   "toc_cell": false,
   "toc_position": {},
   "toc_section_display": true,
   "toc_window_display": false
  }
 },
 "nbformat": 4,
 "nbformat_minor": 2
}
