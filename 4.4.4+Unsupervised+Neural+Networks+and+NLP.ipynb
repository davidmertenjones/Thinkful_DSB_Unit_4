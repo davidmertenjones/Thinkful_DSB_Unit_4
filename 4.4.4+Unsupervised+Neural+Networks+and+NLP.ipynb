{
 "cells": [
  {
   "cell_type": "code",
   "execution_count": 1,
   "metadata": {
    "run_control": {
     "frozen": false,
     "read_only": false
    }
   },
   "outputs": [],
   "source": [
    "%matplotlib inline\n",
    "import numpy as np\n",
    "import pandas as pd\n",
    "import scipy\n",
    "import sklearn\n",
    "import spacy\n",
    "import matplotlib.pyplot as plt\n",
    "import seaborn as sns\n",
    "import re\n",
    "from nltk.corpus import gutenberg, stopwords"
   ]
  },
  {
   "cell_type": "markdown",
   "metadata": {
    "run_control": {
     "frozen": false,
     "read_only": false
    }
   },
   "source": [
    "## Intro to word2vec\n",
    "\n",
    "The most common unsupervised neural network approach for NLP is word2vec, a shallow neural network model for converting words to vectors using distributed representation: Each word is represented by many neurons, and each neuron is involved in representing many words.  At the highest level of abstraction, word2vec assigns a vector of random values to each word.  For a word W, it looks at the words that are near W in the sentence, and shifts the values in the word vectors such that the vectors for words near that W are closer to the W vector, and vectors for words not near W are farther away from the W vector.  With a large enough corpus, this will eventually result in words that often appear together having vectors that are near one another, and words that rarely or never appear together having vectors that are far away from each other.  Then, using the vectors, similarity scores can be computed for each pair of words by taking the cosine of the vectors.  \n",
    "\n",
    "This may sound quite similar to the Latent Semantic Analysis approach you just learned.  The conceptual difference is that LSA creates vector representations of sentences based on the words in them, while word2vec creates representations of individual words, based on the words around them."
   ]
  },
  {
   "cell_type": "markdown",
   "metadata": {},
   "source": [
    "## What is it good for?\n",
    "\n",
    "Word2vec is useful for any time when computers need to parse requests written by humans. The problem with human communication is that there are so many different ways to communicate the same concept. It's easy for us, as humans, to know that \"the silverware\" and \"the utensils\" can refer to the same thing. Computers can't do that unless we teach them, and this can be a real chokepoint for human/computer interactions. If you've ever played a text adventure game (think _Colossal Cave Adventure_ or _Zork_), you may have encountered the following scenario:"
   ]
  },
  {
   "cell_type": "raw",
   "metadata": {},
   "source": [
    "GAME: You are on a forest path north of the field. A cave leads into a granite butte to the north.\n",
    "A thick hedge blocks the way to the west.\n",
    "A hefty stick lies on the ground.\n",
    "\n",
    "YOU: pick up stick  \n",
    "\n",
    "GAME: You don't know how to do that.  \n",
    "\n",
    "YOU: lift stick  \n",
    "\n",
    "GAME: You don't know how to do that.  \n",
    "\n",
    "YOU: take stick  \n",
    "\n",
    "GAME: You don't know how to do that.  \n",
    "\n",
    "YOU: grab stick  \n",
    "\n",
    "GAME: You grab the stick from the ground and put it in your bag.  "
   ]
  },
  {
   "cell_type": "markdown",
   "metadata": {},
   "source": [
    "And your brain explodes from frustration. A text adventure game that incorporates a properly trained word2vec model would have vectors for \"pick up\", \"lift\", and \"take\" that are close to the vector for \"grab\" and therefore could accept those other verbs as synonyms so you could move ahead faster. In more practical applications, word2vec and other similar algorithms are what help a search engine return the best results for your query and not just the ones that contain the exact words you used. In fact, search is a better example, because not only does the search engine need to understand your request, it also needs to match it to web pages that were _also written by humans_ and therefore _also use idiosyncratic language_.\n",
    "\n",
    "Humans, man.  \n",
    "\n",
    "So how does it work?\n",
    "\n",
    "## Generating vectors: Multiple algorithms\n",
    "\n",
    "In considering the relationship between a word and its surrounding words, word2vec has two options that are the inverse of one another:\n",
    "\n",
    " * _Continuous Bag of Words_ (CBOW): the identity of a word is predicted using the words near it in a sentence.\n",
    " * _Skip-gram_: The identities of words are predicted from the word they surround. Skip-gram seems to work better for larger corpuses.\n",
    "\n",
    "For the sentence \"Terry Gilliam is a better comedian than a director\", if we focus on the word \"comedian\" then CBOW will try to predict \"comedian\" using \"is\", \"a\", \"better\", \"than\", \"a\", and \"director\".  Skip-gram will try to predict \"is\", \"a\", \"better\", \"than\", \"a\", and \"director\" using the word \"comedian\". In practice, for CBOW the vector for \"comedian\" will be pulled closer to the other words, while for skip-gram the vectors for the other words will be pulled closer to \"comedian\".  \n",
    "\n",
    "In addition to moving the vectors for nearby words closer together, each time a word is processed some vectors are moved farther away. Word2vec has two approaches to \"pushing\" vectors apart:\n",
    " \n",
    " * _Negative sampling_: Like it says on the tin, each time a word is pulled toward some neighbors, the vectors for a randomly chosen small set of other words are pushed away.\n",
    " * _Hierarchical softmax_: Every neighboring word is pulled closer or farther from a subset of words chosen based on a tree of probabilities.\n",
    "\n",
    "## What is similarity? Word2vec strengths and weaknesses\n",
    "\n",
    "Keep in mind that word2vec operates on the assumption that frequent proximity indicates similarity, but words can be \"similar\" in various ways. They may be conceptually similar (\"royal\", \"king\", and \"throne\"), but they may also be functionally similar (\"tremendous\" and \"negligible\" are both common modifiers of \"size\"). Here is a more detailed exploration, [with examples](https://quomodocumque.wordpress.com/2016/01/15/messing-around-with-word2vec/), of what \"similarity\" means in word2vec.\n",
    "\n",
    "One cool thing about word2vec is that it can identify similarities between words _that never occur near one another in the corpus_. For example, consider these sentences:\n",
    "\n",
    "\"The dog played with an elastic ball.\"\n",
    "\"Babies prefer the ball that is bouncy.\"\n",
    "\"I wanted to find a ball that's elastic.\"\n",
    "\"Tracy threw a bouncy ball.\"\n",
    "\n",
    "\"Elastic\" and \"bouncy\" are similar in meaning in the text but don't appear in the same sentence. However, both appear near \"ball\". In the process of nudging the vectors around so that \"elastic\" and \"bouncy\" are both near the vector for \"ball\", the words also become nearer to one another and their similarity can be detected.\n",
    "\n",
    "For a while after it was introduced, [no one was really sure why word2vec worked as well as it did](https://arxiv.org/pdf/1402.3722v1.pdf) (see last paragraph of the linked paper). A few years later, some additional math was developed to explain word2vec and similar models. If you are comfortable with both math and \"academese\", have a lot of time on your hands, and want to take a deep dive into the inner workings of word2vec, [check out this paper](https://arxiv.org/pdf/1502.03520v7.pdf) from 2016.  \n",
    "\n",
    "One of the draws of word2vec when it first came out was that the vectors could be used to convert analogies (\"king\" is to \"queen\" as \"man\" is to \"woman\", for example) into mathematical expressions (\"king\" + \"woman\" - \"man\" = ?) and solve for the missing element (\"queen\"). This is kinda nifty.\n",
    "\n",
    "A drawback of word2vec is that it works best with a corpus that is at least several billion words long. Even though the word2vec algorithm is speedy, this is a a lot of data and takes a long time! Our example dataset is only two million words long, which allows us to run it in the notebook without overwhelming the kernel, but probably won't give great results.  Still, let's try it!\n",
    "\n",
    "There are a few word2vec implementations in Python, but the general consensus is the easiest one to us is in [gensim](https://radimrehurek.com/gensim/models/word2vec.html). Now is a good time to `pip install gensim` if you don't have it yet."
   ]
  },
  {
   "cell_type": "code",
   "execution_count": 2,
   "metadata": {},
   "outputs": [],
   "source": [
    "# Utility function to clean text.\n",
    "def text_cleaner(text):\n",
    "    \n",
    "    # Visual inspection shows spaCy does not recognize the double dash '--'.\n",
    "    # Better get rid of it now!\n",
    "    text = re.sub(r'--',' ',text)\n",
    "    \n",
    "    # Get rid of headings in square brackets.\n",
    "    text = re.sub(\"[\\[].*?[\\]]\", \"\", text)\n",
    "    \n",
    "    # Get rid of chapter titles.\n",
    "    text = re.sub(r'Chapter \\d+','',text)\n",
    "    \n",
    "    # Get rid of extra whitespace.\n",
    "    text = ' '.join(text.split())\n",
    "    \n",
    "    return text\n",
    "\n",
    "\n",
    "# Import all the Austen in the Project Gutenberg corpus.\n",
    "austen = \"\"\n",
    "for novel in ['persuasion','emma','sense']:\n",
    "    work = gutenberg.raw('austen-' + novel + '.txt')\n",
    "    austen = austen + work\n",
    "\n",
    "# Clean the data.\n",
    "austen_clean = text_cleaner(austen)"
   ]
  },
  {
   "cell_type": "code",
   "execution_count": 3,
   "metadata": {},
   "outputs": [],
   "source": [
    "austen_clean_p1 = austen_clean[0:900000]"
   ]
  },
  {
   "cell_type": "code",
   "execution_count": 4,
   "metadata": {},
   "outputs": [],
   "source": [
    "austen_clean_p2 = austen_clean[900000:1800000]"
   ]
  },
  {
   "cell_type": "code",
   "execution_count": 5,
   "metadata": {},
   "outputs": [],
   "source": [
    "austen_clean_p3 = austen_clean[1800000:2006273]"
   ]
  },
  {
   "cell_type": "code",
   "execution_count": 6,
   "metadata": {},
   "outputs": [],
   "source": [
    "# Parse the data. This can take some time.\n",
    "nlp = spacy.load('en')\n",
    "austen_doc_p1 = nlp(austen_clean_p1)\n",
    "austen_doc_p2 = nlp(austen_clean_p2)\n",
    "austen_doc_p3 = nlp(austen_clean_p3)"
   ]
  },
  {
   "cell_type": "code",
   "execution_count": 7,
   "metadata": {},
   "outputs": [
    {
     "name": "stdout",
     "output_type": "stream",
     "text": [
      "['for', 'daughter', 'eld', 'give', 'thing', 'tempt']\n",
      "We have 7771 sentences and 900000 tokens.\n"
     ]
    }
   ],
   "source": [
    "# Organize the parsed doc into sentences, while filtering out punctuation\n",
    "# and stop words, and converting words to lower case lemmas.\n",
    "sentences_p1 = []\n",
    "for sentence in austen_doc_p1.sents:\n",
    "    sentence = [\n",
    "        token.lemma_.lower()\n",
    "        for token in sentence\n",
    "        if not token.is_stop\n",
    "        and not token.is_punct\n",
    "    ]\n",
    "    sentences_p1.append(sentence)\n",
    "\n",
    "\n",
    "print(sentences_p1[20])\n",
    "print('We have {} sentences and {} tokens.'.format(len(sentences_p1), len(austen_clean_p1)))"
   ]
  },
  {
   "cell_type": "code",
   "execution_count": 8,
   "metadata": {},
   "outputs": [
    {
     "name": "stdout",
     "output_type": "stream",
     "text": [
      "['yes', 'say', 'jane', 'hear', 'kind', 'offer', 'hear', 'thing']\n",
      "We have 8577 sentences and 900000 tokens.\n"
     ]
    }
   ],
   "source": [
    "# Organize the parsed doc into sentences, while filtering out punctuation\n",
    "# and stop words, and converting words to lower case lemmas.\n",
    "sentences_p2 = []\n",
    "for sentence in austen_doc_p2.sents:\n",
    "    sentence = [\n",
    "        token.lemma_.lower()\n",
    "        for token in sentence\n",
    "        if not token.is_stop\n",
    "        and not token.is_punct\n",
    "    ]\n",
    "    sentences_p2.append(sentence)\n",
    "\n",
    "\n",
    "print(sentences_p2[20])\n",
    "print('We have {} sentences and {} tokens.'.format(len(sentences_p2), len(austen_clean_p2)))"
   ]
  },
  {
   "cell_type": "code",
   "execution_count": 9,
   "metadata": {},
   "outputs": [
    {
     "name": "stdout",
     "output_type": "stream",
     "text": [
      "['and', 'thing', 'prepare', 'bad', 'mother', 'determine', 'natural', 'kind', 'spirit', 'settle', 'that', 'estate', 'robert', 'immediately', 'edward', \"'s\", 'proper', 'condition']\n",
      "We have 1506 sentences and 206272 tokens.\n"
     ]
    }
   ],
   "source": [
    "# Organize the parsed doc into sentences, while filtering out punctuation\n",
    "# and stop words, and converting words to lower case lemmas.\n",
    "sentences_p3 = []\n",
    "for sentence in austen_doc_p3.sents:\n",
    "    sentence = [\n",
    "        token.lemma_.lower()\n",
    "        for token in sentence\n",
    "        if not token.is_stop\n",
    "        and not token.is_punct\n",
    "    ]\n",
    "    sentences_p3.append(sentence)\n",
    "\n",
    "\n",
    "print(sentences_p3[20])\n",
    "print('We have {} sentences and {} tokens.'.format(len(sentences_p3), len(austen_clean_p3)))"
   ]
  },
  {
   "cell_type": "code",
   "execution_count": 10,
   "metadata": {},
   "outputs": [],
   "source": [
    "sentences = sentences_p1 + sentences_p2 + sentences_p3"
   ]
  },
  {
   "cell_type": "code",
   "execution_count": 11,
   "metadata": {
    "run_control": {
     "frozen": false,
     "read_only": false
    }
   },
   "outputs": [
    {
     "name": "stdout",
     "output_type": "stream",
     "text": [
      "done!\n"
     ]
    }
   ],
   "source": [
    "import gensim\n",
    "from gensim.models import word2vec\n",
    "\n",
    "model = word2vec.Word2Vec(\n",
    "    sentences,\n",
    "    workers=4,     # Number of threads to run in parallel (if your computer does parallel processing).\n",
    "    min_count=10,  # Minimum word count threshold.\n",
    "    window=6,      # Number of words around target word to consider.\n",
    "    sg=0,          # Use CBOW because our corpus is small.\n",
    "    sample=1e-3 ,  # Penalize frequent words.\n",
    "    size=300,      # Word vector length.\n",
    "    hs=1           # Use hierarchical softmax.\n",
    ")\n",
    "\n",
    "print('done!')"
   ]
  },
  {
   "cell_type": "code",
   "execution_count": 12,
   "metadata": {},
   "outputs": [
    {
     "name": "stdout",
     "output_type": "stream",
     "text": [
      "[('people', 0.678819477558136), ('cordial', 0.5522921681404114), ('person', 0.4514036476612091), ('thousand', 0.44400525093078613), ('discretion', 0.43628740310668945), ('nineteen', 0.42778998613357544), ('captain', 0.42705827951431274), ('ought', 0.42069676518440247), ('introduction', 0.41460198163986206), ('fellow', 0.4132372736930847)]\n",
      "0.72508484\n",
      "0.23594444\n",
      "marriage\n"
     ]
    },
    {
     "name": "stderr",
     "output_type": "stream",
     "text": [
      "/anaconda3/lib/python3.6/site-packages/gensim/matutils.py:737: FutureWarning: Conversion of the second argument of issubdtype from `int` to `np.signedinteger` is deprecated. In future, it will be treated as `np.int64 == np.dtype(int).type`.\n",
      "  if np.issubdtype(vec.dtype, np.int):\n",
      "/anaconda3/lib/python3.6/site-packages/ipykernel_launcher.py:12: DeprecationWarning: Call to deprecated `doesnt_match` (Method will be removed in 4.0.0, use self.wv.doesnt_match() instead).\n",
      "  if sys.path[0] == '':\n"
     ]
    }
   ],
   "source": [
    "# List of words in model.\n",
    "vocab = model.wv.vocab.keys()\n",
    "\n",
    "print(model.wv.most_similar(positive=['lady', 'man'], negative=['woman']))\n",
    "\n",
    "# Similarity is calculated using the cosine, so again 1 is total\n",
    "# similarity and 0 is no similarity.\n",
    "print(model.wv.similarity('loud', 'aloud'))\n",
    "print(model.wv.similarity('mr', 'mrs'))\n",
    "\n",
    "# One of these things is not like the other...\n",
    "print(model.doesnt_match(\"breakfast marriage dinner lunch\".split()))"
   ]
  },
  {
   "cell_type": "code",
   "execution_count": 13,
   "metadata": {},
   "outputs": [
    {
     "data": {
      "text/plain": [
       "dict_keys(['sir', 'walter', 'elliot', 'kellynch', 'hall', 'somersetshire', 'man', 'amusement', 'take', 'book', 'find', 'occupation', 'idle', 'hour', 'consolation', 'distressed', 'rouse', 'admiration', 'respect', 'early', 'unwelcome', 'sensation', 'arise', 'domestic', 'affair', 'change', 'naturally', 'pity', 'contempt', 'turn', 'read', 'history', 'interest', 'fail', 'this', 'favourite', 'volume', 'open', 'of', 'bear', 'married', 'elizabeth', 'daughter', 'james', 'south', 'park', 'county', 'lady', 'die', 'june', 'anne', 'son', 'november', 'mary', 'precisely', 'stand', \"'s\", 'hand', 'improve', 'add', 'information', 'family', 'word', 'date', 'birth', 'charles', 'heir', 'musgrove', 'uppercross', 'day', 'month', 'lose', 'wife', 'then', 'follow', 'rise', 'respectable', 'usual', 'term', 'settle', 'mention', 'serve', 'office', 'high', 'represent', 'exertion', 'dignity', 'baronet', 'year', 'marry', 'form', 'altogether', 'handsome', 'conclude', 'arm', 'principal', 'seat', 'william', 'great', 'second', 'vanity', 'beginning', 'end', 'character', 'person', 'situation', '-pron-', 'remarkably', 'youth', 'fine', 'woman', 'think', 'personal', 'appearance', 'new', 'lord', 'delighted', 'place', 'hold', 'society', 'consider', 'blessing', 'beauty', 'inferior', 'unite', 'constant', 'object', 'warm', 'good', 'look', 'rank', 'fair', 'claim', 'attachment', 'owe', 'superior', 'thing', 'deserve', 'excellent', 'sensible', 'amiable', 'conduct', 'pardon', 'require', 'indulgence', 'humour', 'soften', 'conceal', 'promote', 'real', 'seventeen', 'happy', 'world', 'duty', 'friend', 'child', 'attach', 'life', 'matter', 'indifference', 'call', 'quit', 'girl', 'eld', 'sixteen', 'mother', 'charge', 'authority', 'silly', 'father', 'intimate', 'bring', 'strong', 'close', 'village', 'kindness', 'advice', 'help', 'principle', 'anxiously', 'give', 'anticipate', 'head', 'acquaintance', 'pass', 'away', 'death', 'near', 'neighbour', 'remain', 'widow', 'that', 'russell', 'steady', 'age', 'extremely', 'provide', 'thought', 'marriage', 'need', 'apology', 'public', 'apt', 'continue', 'explanation', 'be', 'know', 'like', 'have', 'meet', 'private', 'disappointment', 'unreasonable', 'application', 'pride', 'single', 'dear', 'sake', 'for', 'tempt', 'succeed', 'possible', 'right', 'consequence', 'influence', 'go', 'happily', 'value', 'little', 'importance', 'mrs', 'elegance', 'mind', 'sweetness', 'people', 'understanding', 'sister', 'weight', 'convenience', 'way', 'to', 'highly', 'god', 'love', 'fancy', 'revive', 'a', 'pretty', 'bloom', 'height', 'admire', 'totally', 'different', 'delicate', 'feature', 'dark', 'eye', 'thin', 'excite', 'esteem', 'indulge', 'hope', 'work', 'all', 'alliance', 'rest', 'merely', 'connect', 'old', 'country', 'large', 'fortune', 'honour', 'receive', 'happen', 'generally', 'speak', 'ill', 'health', 'anxiety', 'time', 'scarcely', 'charm', 'miss', 'begin', 'ago', 'excuse', 'forget', 'deem', 'half', 'fool', 'everybody', 'plainly', 'grow', 'face', 'neighbourhood', 'rapid', 'increase', 'foot', 'long', 'distress', 'equal', 'see', 'mistress', 'direct', 'self', 'possession', 'decision', 'idea', 'young', 'lay', 'law', 'home', 'lead', 'chaise', 'walk', 'immediately', 'drawing', 'room', 'dining', 'winter', 'opening', 'ball', 'credit', 'afford', 'spring', 'shew', 'travel', 'london', 'week', 'enjoyment', 'remembrance', 'consciousness', 'regret', 'apprehension', 'fully', 'satisfied', 'feel', 'approach', 'danger', 'rejoice', 'certain', 'properly', 'blood', 'twelvemonth', 'present', 'evil', 'leave', 'table', 'push', 'especially', 'the', 'support', 'disappoint', 'soon', 'event', 'brother', 'future', 'mean', 'boy', 'seek', 'warmth', 'make', 'allowance', 'modest', 'mr', 'force', 'introduction', 'engage', 'study', 'agreeable', 'plan', 'favour', 'confirm', 'invite', 'talk', 'expect', 'come', 'town', 'equally', 'encourage', 'instead', 'line', 'mark', 'house', 'purchase', 'independence', 'rich', 'as', 'ought', 'consult', 'observe', 'twice', 'express', 'apparently', 'attempt', 'longer', 'notice', 'unworthy', 'cease', 'awkward', 'interval', 'anger', 'proper', 'match', 'there', 'feeling', 'acknowledge', 'yet', 'summer', 'wear', 'black', 'admit', 'worth', 'disgrace', 'reason', 'suppose', 'get', 'kind', 'inform', 'belong', 'such', 'sentiment', 'care', 'agitation', 'vary', 'prosperity', 'scene', 'residence', 'circle', 'fill', 'habit', 'abroad', 'talent', 'accomplishment', 'occupy', 'but', 'solicitude', 'money', 'drive', 'heavy', 'hint', 'shepherd', 'property', 'state', 'while', 'live', 'method', 'keep', 'income', 'period', 'constantly', 'exceed', 'spend', 'dreadfully', 'hear', 'vain', 'far', 'can', 'do', 'occur', 'article', 'justice', 'female', 'alarm', 'set', 'seriously', 'finally', 'propose', 'cut', 'unnecessary', 'charity', 'furnish', 'measure', 'extent', 'oblige', 'confess', 'deep', 'unfortunate', 'able', 'lessen', 'expense', 'comfort', 'small', 'estate', 'dispose', 'difference', 'power', 'sell', 'no', 'entire', 'advise', 'strike', 'remove', 'embarrassment', 'involve', 'loss', 'taste', 'civil', 'cautious', 'view', 'disagreeable', 'prompt', 'anybody', 'offer', 'slight', 'beg', 'recommend', 'sense', 'adopt', 'subject', 'consideration', 'sound', 'quick', 'ability', 'difficulty', 'instance', 'opposition', 'strict', 'desirous', 'save', 'capable', 'correct', 'notion', 'manner', 'rational', 'prejudice', 'blind', 'fault', 'possess', 'independent', 'attentive', 'husband', 'deal', 'compassion', 'doubt', 'anxious', 'pain', 'draw', 'exact', 'question', 'degree', 'scheme', 'submit', 'every', 'want', 'complete', 'release', 'tone', 'if', 'persuade', 'say', 'paper', 'seven', 'clear', 'convince', 'affect', 'true', 'act', 'what', 'fact', 'case', 'bad', 'suffering', 'prevail', 'decide', 'pay', 'gentleman', 'honest', 'proceed', 'urge', 'secure', 'short', 'severe', 'conscience', 'believe', 'knowledge', 'incline', 'sacrifice', 'pair', 'horse', 'hardly', 'painful', 'gentle', 'how', 'success', 'knock', 'servant', 'sooner', 'perfectly', 'start', 'quarter', 'scruple', 'entirely', 'appear', 'materially', 'alter', 'style', 'in', 'judge', 'choose', 'important', 'bath', 'wish', 'pleasure', 'grove', 'fate', 'attend', 'opposite', 'inclination', 'fix', 'dislike', 'agree', 'trust', 'prefer', 'safe', 'two', 'material', 'advantage', 'course', 'convenient', 'distance', 'mile', 'satisfaction', 'project', 'induce', 'oppose', 'mortification', 'foresee', 'dreadful', 'and', 'regard', 'mistake', 'circumstance', 'school', 'spirit', 'fond', 'suit', 'lodge', 'avoid', 'certainly', 'strengthen', 'trial', 'fortitude', 'let', 'secret', 'breathe', 'design', 'dare', 'drop', 'intention', 'approve', 'glad', 'lately', 'intimacy', 'return', 'additional', 'clever', 'understand', 'please', 'pleasing', 'acceptable', 'stay', 'spite', 'friendship', 'caution', 'reserve', 'outward', 'attention', 'point', 'carry', 'previous', 'repeatedly', 'earnest', 'try', 'include', 'visit', 'injustice', 'selfish', 'arrangement', 'shut', 'occasion', 'endeavour', 'experience', 'pursue', 'clay', 'bestow', 'affection', 'confidence', 'distant', 'civility', 'from', 'estimate', 'unequal', 'dangerous', 'companion', 'removal', 'choice', 'suitable', 'reach', 'rate', 'morning', 'newspaper', 'peace', 'officer', 'could', 'tenant', 'noble', 'war', 'admiral', 'lucky', 'reply', 'remark', 'laugh', 'wit', 'presume', 'business', 'navy', 'free', 'liberal', 'likely', 'desirable', 'suggest', 'difficult', 'action', 'curiosity', 'john', 'venture', 'greatly', 'surprise', 'truth', 'particularly', 'trouble', 'nod', 'pace', 'imagine', 'surprised', 'description', 'bless', 'use', 'sailor', 'profession', 'liberality', 'neat', 'careful', 'these', 'valuable', 'picture', 'garden', 'shrubbery', 'order', 'afraid', 'sweet', 'neglect', 'coolly', 'privilege', 'ground', 'guard', 'disposed', 'grant', 'extraordinary', 'assure', 'after', 'pause', 'establish', 'plain', 'easy', 'depend', 'jealous', 'here', 'hard', 'allow', 'very', 'oh', 'sorry', 'indeed', 'yes', 'objection', 'distinction', 'raise', 'dream', 'insult', 'disgust', 'one', 'company', 'eat', 'colour', 'grey', 'hair', '`', 'heaven', 'fellow', 'cry', 'amazement', 'shall', 'easily', 'wretched', 'example', 'sea', 'expose', 'weather', 'till', 'fit', 'nay', 'poor', 'active', 'service', 'labour', 'body', 'seldom', 'natural', 'effect', 'stopt', 'moment', 'injury', 'necessary', 'honourable', 'regular', 'pursuit', 'utmost', 'croft', 'shortly', 'fall', 'by', 'report', 'hasten', 'immediate', 'hearing', 'concern', 'possibility', 'connection', 'introduce', 'particular', 'inquiry', 'account', 'proof', 'eligible', 'cold', 'answer', 'white', 'station', 'sure', 'behaviour', 'comfortable', 'ready', 'fetch', 'ask', 'inquire', 'peculiarly', 'furniture', 'suffer', 'tell', 'at', 'recollect', 'eagerly', 'appeal', 'remember', 'odd', 'acquaint', 'sight', 'farmer', 'break', 'wall', 'tear', 'apple', 'catch', 'contrary', 'wait', 'wentworth', 'gratitude', 'ay', 'wonder', 'name', 'common', 'perceive', 'connexion', 'crofts', 'zeal', 'dwell', 'number', 'extreme', 'happiness', 'intend', 'infinitely', 'permit', 'wise', 'essential', 'bid', 'so', 'supply', 'mere', 'note', 'an', 'intercourse', 'nothing', 'utter', 'completely', 'cool', 'air', 'cheek', 'sigh', 'captain', 'frederick', 'employ', 'parent', 'intelligence', 'gentleness', 'sum', 'attraction', 'encounter', 'recommendation', 'gradually', 'rapidly', 'deeply', 'perfection', 'declaration', 'proposal', 'accept', 'exquisite', 'felicity', 'apply', 'actually', 'consent', 'astonishment', 'coldness', 'silence', 'profess', 'resolution', 'temper', 'throw', 'nineteen', 'engagement', 'chance', 'uncertain', 'farth', 'grieve', 'stranger', 'sink', 'dependence', 'interference', 'representation', 'prevent', 'ship', 'powerful', 'differently', 'sanguine', 'imprudence', 'horror', 'light', 'produce', 'opinion', 'tenderness', 'continually', 'wrong', 'put', 'belief', 'prudent', 'deny', 'principally', 'chief', 'misery', 'parting', 'share', 'last', 'nearly', 'peculiar', 'comparison', 'memory', 'thoroughly', 'sufficient', 'cure', 'nice', 'willing', 'lament', 'land', 'general', 'partiality', 'discretion', 'past', 'enter', 'constancy', 'allude', 'blame', 'guide', 'similar', 'counsel', 'wretchedness', 'probable', 'fear', 'delay', 'maintain', 'suspense', 'result', 'reasonably', 'calculate', 'expectation', 'justify', 'command', 'path', 'distinguish', 'gain', 'step', 'cheerful', 'distrust', 'prudence', 'learn', 'with', 'recollection', 'folly', 'nerve', 'sufficiently', 'continual', 'discussion', 'assist', 'perfect', 'apparent', 'superiority', 'motif', 'calmness', 'conviction', 'grateful', 'syllable', 'whisper', 'human', 'creature', 'england', 'accompany', 'delicacy', 'hop', 'awkwardness', 'on', 'daily', 'opportunity', 'meeting', 'party', 'prove', 'satisfactory', 'previously', 'flatter', 'assurance', 'hesitation', 'declare', 'best', 'ashamed', 'cordiality', 'fire', 'harm', 'compliment', 'precede', 'unwilling', 'hurry', 'convey', 'christmas', 'unable', 'invitation', 'dread', 'heat', 'september', 'sad', 'something', 'unwell', 'complaint', 'autumn', 'entreat', 'entreaty', 'cottage', 'possibly', 'readily', 'consequently', 'divide', 'burst', 'contain', 'sore', 'quiet', 'observation', 'absence', 'reverse', 'reproach', 'offend', 'conceive', 'suspicion', 'warmly', 'better', 'condition', 'strongly', 'ne', 'suspect', 'beautiful', 'render', 'unhappy', 'merit', 'reckon', 'tolerably', 'safety', 'misfortune', 'reconcile', 'however', 'absolutely', 'hopeless', 'carriage', 'prepare', 'bow', 'sort', 'tranquillity', 'exceedingly', 'precious', 'desert', 'escape', 'melancholy', 'arrive', 'determine', 'accordingly', 'journey', 'moderate', 'english', 'mansion', 'gate', 'tree', 'parsonage', 'round', 'improvement', 'farm', 'window', 'considerable', 'farther', 'run', 'though', 'indisposition', 'resource', 'solitude', 'lie', 'sofa', 'elegant', 'send', 'unfit', 'seize', 'sudden', 'ring', 'enquire', \"o'clock\", 'soul', 'noise', 'well', 'cheerfully', 'stop', 'musgroves', 'write', 'aware', 'busy', 'arrange', 'music', 'nature', 'parish', 'dinner', 'yesterday', 'enquiry', 'strange', 'pleasant', 'uncomfortable', 'sit', 'forward', 'crowd', 'henrietta', 'illness', 'patience', 'cheerfulness', 'upright', 'where', 'ceremony', 'enjoy', 'imprudent', 'check', 'offence', 'square', 'parlour', 'confusion', 'direction', 'conscious', 'alteration', 'friendly', 'modern', 'except', 'louisa', 'exeter', 'thousand', 'merry', 'dress', 'exchange', 'envy', 'mutual', 'amiss', 'chat', 'pleasantly', 'join', 'total', 'conversation', 'unknown', 'treat', 'heart', 'sympathy', 'separate', 'addition', 'papa', 'upon', 'resolve', 'heighten', 'truly', 'game', 'destroy', 'dancing', 'discourse', 'prospect', 'clothe', 'imagination', 'part', 'undoubtedly', 'grace', 'trifle', 'benefit', 'couple', 'topic', 'shame', 'practice', 'manage', 'faith', 'listen', 'spoil', 'temptation', 'request', 'exert', 'language', 'hate', 'sick', 'cross', 'troublesome', 'pleased', 'not', 'tolerable', 'cake', 'communication', 'maid', 'rule', 'story', 'ruin', 'watch', 'din', 'jealousy', 'indifferent', 'mamma', 'nobody', 'forbearance', 'broad', 'employment', 'interrupt', 'evening', 'play', 'voice', 'delight', 'performance', 'visitor', 'wild', 'occasionally', 'cousin', 'dance', 'post', 'musical', 'fly', 'beloved', 'touch', 'exclaim', 'low', 'necessity', 'sincerely', 'master', 'likeness', 'expression', 'tall', 'bright', 'complexion', 'thirty', 'relate', 'satisfy', 'minute', 'instant', 'symptom', 'strength', 'courage', 'suddenly', 'emotion', 'perhaps', 'explain', 'reasonable', 'edward', 'move', 'eager', 'attack', 'engross', 'c.', 'finish', 'certainty', 'late', 'amuse', 'when', 'directly', 'letter', 'piece', 'stupid', 'thick', 'unfeel', 'living', 'dead', 'liable', 'rid', 'board', 'disinterested', 'impression', 'grief', 'likewise', 'evidently', 'relief', 'repeat', 'puzzle', 'probably', 'teach', 'insensible', 'speedily', 'praise', 'arrival', 'dine', 'impatient', 'welcome', 'aside', 'midst', 'afternoon', 'useful', 'examine', 'grave', 'aunt', 'ease', 'nephew', 'promise', 'press', 'morrow', 'motive', 'rapture', 'uneasiness', 'joy', 'only', 'night', 'ascertain', 'bed', 'quietly', 'meaning', 'determined', 'luck', 'stir', 'shock', 'scold', 'excessively', 'door', 'stair', 'exultation', 'undertake', 'tuesday', 'nurse', 'because', 'sincerity', 'kindly', 'exist', 'sing', 'charming', 'breakfast', 'later', 'inconvenient', 'gratify', 'preparation', 'nervous', 'resume', 'now', 'hat', 'spar', 'gallant', 'altered', 'wound', 'silent', 'tendency', 'compose', 'forgive', 'endure', 'persuasion', 'weakness', 'desire', 'foolish', 'smile', 'should', 'contradict', 'proud', 'describe', 'pretence', 'absent', 'renew', 'forth', 'disposition', 'wander', 'impossibility', 'countenance', 'discern', 'ignorance', 'accommodation', 'remind', 'ignorant', 'thinking', 'overcome', 'ah', 'spare', 'relieve', 'quite', 'entertain', 'impossible', 'never', 'build', 'appointment', 'discovery', 'fashion', 'wet', 'passage', 'plymouth', 'corner', 'sincere', 'exclamation', 'aloud', 'somewhat', 'probability', 'commission', 'class', 'fast', 'lovely', 'harville', 'momentary', 'speech', 'glance', 'mouth', 'collect', 'instantly', 'size', 'screen', 'sorrow', 'proportion', 'figure', 'affliction', 'abuse', 'gallantry', 'comprehend', 'effort', 'purpose', 'pray', 'smooth', 'water', 'thankful', 'madam', 'confine', 'safely', 'thank', 'inconvenience', 'aye', 'separation', 'instrument', 'error', 'partner', 'tired', 'politeness', 'flattery', 'reception', 'interesting', 'establishment', 'hitherto', 'hayter', 'disturb', 'compare', 'education', 'doubtful', 'lively', 'delightful', 'pound', 'decidedly', 'nonsense', 'uncle', 'winthrop', 'shocking', 'natured', 'positive', 'staid', 'affectionate', 'mistaken', 'mortify', 'wholly', 'interested', 'obtain', 'dr', 'shirley', 'fatigue', 'composure', 'behave', 'calmly', 'patient', 'will', 'presently', 'another', 'shake', 'contrive', 'angry', 'bend', 'resolutely', 'hang', 'recover', 'enable', 'entrance', 'evident', 'inclined', 'reflection', 'fever', 'attribute', 'triumph', 'struggle', 'refuse', 'communicate', 'cordial', 'exactly', 'narrow', 'exercise', 'hedge', 'season', 'worthy', 'engaged', 'hill', 'tender', 'decline', 'fresh', 'stretch', 'building', 'yard', 'lean', 'unpleasant', 'assent', 'spot', 'quarrel', 'dry', 'middle', 'frighten', 'resist', 'firm', 'weak', 'before', 'provoke', 'motion', 'conjecture', 'division', 'space', 'distinct', 'boast', 'animation', 'necessarily', 'complain', 'accord', 'lane', 'advance', 'guess', 'unjust', 'resentment', 'careless', 'lodging', 'spread', 'unaffected', 'calm', 'frequent', 'church', 'witness', 'conclusion', 'relation', 'lyme', 'thither', 'street', 'inn', 'variety', 'cobb', 'animate', 'sweep', 'flow', 'partial', 'wonderful', 'harvilles', 'benwick', 'fanny', 'reading', 'hurt', 'unlike', 'display', 'accommodate', 'deficiency', 'contrast', 'wood', 'amusing', 'gratification', 'collection', 'bind', 'openness', 'protest', 'oppress', 'presence', 'reserved', 'restraint', 'bride', 'pronounce', 'song', 'agony', 'imply', 'procure', 'convinced', 'attendance', 'perform', 'shop', 'restore', 'wind', 'blow', 'quickly', 'chamber', 'apartment', 'readiness', 'propriety', 'somebody', 'jump', 'smart', 'rapidity', 'polite', 'slow', 'fairly', 'alike', 'news', 'accomplish', 'content', 'lower', 'sens', 'despair', 'disengage', 'accident', 'assistance', 'overpower', 'reflect', 'concerned', 'irresistible', 'perplexity', 'terror', 'some', 'glow', 'why', 'inevitable', 'earlier', 'vexation', 'emma', 'henry', 'govern', 'astonish', 'road', 'sleep', 'address', 'announce', 'encouraging', 'solitary', 'recovery', 'gay', 'leisure', 'rain', 'glass', 'humble', 'reconciliation', 'mix', 'converse', 'camden', 'fortunate', 'goodness', 'simplicity', 'gratefully', 'earth', 'fortnight', 'behold', 'dull', 'discover', 'pretend', 'joint', 'breed', 'eagerness', 'hazard', 'fearful', 'ride', 'surround', 'progress', 'bustle', 'deceive', 'unexpected', 'faint', 'card', 'colonel', 'wallis', 'buildings', 'relative', 'favourable', 'still', 'risk', 'surely', 'earnestly', 'amend', 'frequently', 'decent', 'gown', 'blush', 'astonished', 'excellence', 'guest', 'length', 'yield', 'overlook', 'drink', 'selfishness', 'sensibility', 'violent', 'unhappiness', 'simple', 'earnestness', 'dalrymple', 'carteret', 'unfortunately', 'disappointed', 'ear', 'ireland', 'apprehend', 'preserve', 'neither', 'create', 'indignation', 'governess', 'smith', 'hot', 'absolute', 'liberty', 'buy', 'impatience', 'generosity', 'plenty', 'existence', 'ladyship', 'compassionate', 'virtue', 'subdue', 'associate', 'frank', 'hearted', 'hasty', 'tongue', 'february', 'deliver', 'january', 'throat', 'signify', 'heartily', 'trick', 'chair', 'court', 'even', 'soft', 'uneasy', 'writing', 'barouche', 'unaccountable', 'union', 'betray', 'would', 'shade', 'mad', 'withdraw', 'rob', 'concert', 'who', 'side', 'resemblance', 'deficient', 'agitated', 'about', 'demand', 'generous', 'inferiority', 'sentence', 'nearer', 'tea', 'chiefly', 'gravely', 'own', 'intelligible', 'penetration', 'hesitate', 'cruel', 'bye', 'message', 'thoughtful', 'those', 'wealth', 'concealment', 'marrying', 'assertion', 'box', 'matrimony', 'hastily', 'miserable', 'reward', 'extend', 'congratulate', 'obliging', 'practise', 'source', 'wedding', 'gaiety', 'fortunately', 'thorough', 'parcel', 'argument', 'positively', 'acquit', 'sun', 'tremble', 'security', 'restless', 'guilt', 'defer', 'pen', 'lip', 'sex', 'forbid', 'e.', 'shocked', 'doctor', 'damp', 'housekeeper', 'today', 'blunder', 'encouragement', 'accent', 'crown', 'quickness', 'chapter', 'woodhouse', 'taylor', 'mr.', 'judgment', 'continuance', 'weston', 'recall', 'unreserve', 'isabella', 'dearer', 'mrs.', 'constitution', 'hartfield', 'highbury', 'randalls', 'lock', 'knightley', 'brunswick', 'dirty', 'vast', 'congratulation', 'dearest', 'joke', 'elton', 'comfortably', 'chuse', 'churchill', 'surpriz', 'enscombe', 'churchills', 'eighteen', 'perry', 'bates', 'surprize', 'donwell', 'abbey', 'westons', 'goddard', 'harriet', 'martin', 'supper', 'approbation', 'wine', 'conceit', 'martins', 'mill', 'nash', 'whatev', 'vulgar', 'robert', 'voluntarily', 'flutter', 'vicarage', 'striking', 'lover', 'passion', 'mama', 'displeased', 'may', 'errand', 'repetition', 'censure', 'rude', 'detain', 'charade', 'acknowledgment', 'eltons', 'cole', 'secrecy', 'ridiculous', 'grandmama', 'poverty', 'niece', 'jane', 'fairfax', 'grandmother', 'obligation', 'wingfield', 'weymouth', 'campbell', 'preference', 'excess', 'snow', 'much', 'cover', 'tete', 'confession', 'loud', 'coles', 'commendation', 'campbells', 'dixon', 'injure', 'openly', 'pork', 'patty', 'hawkins', 'ford', 'oxford', 'treatment', 'pianoforte', 'basket', 'larkins', 'maple', 'suckling', 'explore', 'selina', 'departure', 'punishment', 'beau', 'richmond', 'smallridge', 'my', 'dashwood', 'norland', 'h', 'elinor', 'marianne', 'margaret', 'dashwoods', 'you', 'ferrars', 'she', 'devonshire', 'barton', 'middleton', 'valley', 'middletons', 'jennings', 'brandon', 'he', 'her', 'allenham', 'willoughby', 'tomorrow', 'delaford', 'combe', 'magna', 'charlotte', 'palmer', 'monstrous', 'cleveland', 'steeles', 'lucy', 'steele', 'berkeley', 'morton', 'harley', 'harris'])"
      ]
     },
     "execution_count": 13,
     "metadata": {},
     "output_type": "execute_result"
    }
   ],
   "source": [
    "vocab"
   ]
  },
  {
   "cell_type": "markdown",
   "metadata": {
    "run_control": {
     "frozen": false,
     "read_only": false
    }
   },
   "source": [
    "Clearly this model is not great – while some words given above might possibly fill in the analogy woman:lady::man:?, most answers likely make little sense. You'll notice as well that re-running the model likely gives you different results, indicating random chance plays a large role here.\n",
    "\n",
    "We do, however, get a nice result on \"marriage\" being dissimilar to \"breakfast\", \"lunch\", and \"dinner\". \n",
    "\n",
    "## Drill 0\n",
    "\n",
    "Take a few minutes to modify the hyperparameters of this model and see how its answers change. Can you wrangle any improvements?"
   ]
  },
  {
   "cell_type": "markdown",
   "metadata": {},
   "source": [
    "### Iteration"
   ]
  },
  {
   "cell_type": "code",
   "execution_count": 14,
   "metadata": {
    "run_control": {
     "frozen": false,
     "read_only": false
    },
    "scrolled": true
   },
   "outputs": [
    {
     "name": "stdout",
     "output_type": "stream",
     "text": [
      "[('inconvenient', 0.9985440969467163), ('discretion', 0.9984819889068604), ('opposite', 0.9983533620834351), ('possibility', 0.9981647729873657), ('parting', 0.9980906844139099), ('wait', 0.9980711340904236), ('read', 0.9980366826057434), ('box', 0.9980331659317017), ('calmly', 0.9980219006538391), ('indulge', 0.9979931116104126)]\n",
      "\n",
      "\n",
      "0.9960654\n",
      "0.99388075\n",
      "breakfast\n"
     ]
    },
    {
     "name": "stderr",
     "output_type": "stream",
     "text": [
      "/anaconda3/lib/python3.6/site-packages/gensim/matutils.py:737: FutureWarning: Conversion of the second argument of issubdtype from `int` to `np.signedinteger` is deprecated. In future, it will be treated as `np.int64 == np.dtype(int).type`.\n",
      "  if np.issubdtype(vec.dtype, np.int):\n",
      "/anaconda3/lib/python3.6/site-packages/ipykernel_launcher.py:26: DeprecationWarning: Call to deprecated `doesnt_match` (Method will be removed in 4.0.0, use self.wv.doesnt_match() instead).\n"
     ]
    }
   ],
   "source": [
    "# Tinker with hyperparameters here.\n",
    "\n",
    "model = word2vec.Word2Vec(\n",
    "    sentences,\n",
    "    workers=4,     # Number of threads to run in parallel (if your computer does parallel processing).\n",
    "    min_count=10,  # Minimum word count threshold.\n",
    "    window=6,      # Number of words around target word to consider.\n",
    "    sg=0,          # Use CBOW because our corpus is small.\n",
    "    sample=1e-4 ,  # Penalize frequent words.\n",
    "    size=300,      # Word vector length.\n",
    "    hs=1           # Use hierarchical softmax.\n",
    ")\n",
    "\n",
    "# List of words in model.\n",
    "vocab = model.wv.vocab.keys()\n",
    "\n",
    "print(model.wv.most_similar(positive=['lady', 'man'], negative=['woman']))\n",
    "print('\\n')\n",
    "\n",
    "# Similarity is calculated using the cosine, so again 1 is total\n",
    "# similarity and 0 is no similarity.\n",
    "print(model.wv.similarity('loud', 'aloud'))\n",
    "print(model.wv.similarity('mr', 'mrs'))\n",
    "\n",
    "# One of these things is not like the other...\n",
    "print(model.doesnt_match(\"breakfast marriage dinner lunch\".split()))"
   ]
  },
  {
   "cell_type": "markdown",
   "metadata": {},
   "source": [
    "### Iteration"
   ]
  },
  {
   "cell_type": "code",
   "execution_count": 15,
   "metadata": {
    "run_control": {
     "frozen": false,
     "read_only": false
    },
    "scrolled": true
   },
   "outputs": [
    {
     "name": "stdout",
     "output_type": "stream",
     "text": [
      "[('farmer', 0.5028352737426758), ('people', 0.4907006025314331), ('husband', 0.4715992212295532), ('spoil', 0.4458686113357544), ('rapid', 0.4309927225112915), ('visit', 0.4178653061389923), ('absolute', 0.41309207677841187), ('parent', 0.40888017416000366), ('joke', 0.39972272515296936), ('friend', 0.39867907762527466)]\n",
      "\n",
      "\n",
      "0.6800617\n",
      "0.3546172\n",
      "marriage\n"
     ]
    },
    {
     "name": "stderr",
     "output_type": "stream",
     "text": [
      "/anaconda3/lib/python3.6/site-packages/gensim/matutils.py:737: FutureWarning: Conversion of the second argument of issubdtype from `int` to `np.signedinteger` is deprecated. In future, it will be treated as `np.int64 == np.dtype(int).type`.\n",
      "  if np.issubdtype(vec.dtype, np.int):\n",
      "/anaconda3/lib/python3.6/site-packages/ipykernel_launcher.py:26: DeprecationWarning: Call to deprecated `doesnt_match` (Method will be removed in 4.0.0, use self.wv.doesnt_match() instead).\n"
     ]
    }
   ],
   "source": [
    "# Tinker with hyperparameters here.\n",
    "\n",
    "model = word2vec.Word2Vec(\n",
    "    sentences,\n",
    "    workers=4,     # Number of threads to run in parallel (if your computer does parallel processing).\n",
    "    min_count=10,  # Minimum word count threshold.\n",
    "    window=6,      # Number of words around target word to consider.\n",
    "    sg=0,          # Use CBOW because our corpus is small.\n",
    "    sample=5e-3 ,  # Penalize frequent words.\n",
    "    size=300,      # Word vector length.\n",
    "    hs=1           # Use hierarchical softmax.\n",
    ")\n",
    "\n",
    "# List of words in model.\n",
    "vocab = model.wv.vocab.keys()\n",
    "\n",
    "print(model.wv.most_similar(positive=['lady', 'man'], negative=['woman']))\n",
    "print('\\n')\n",
    "\n",
    "# Similarity is calculated using the cosine, so again 1 is total\n",
    "# similarity and 0 is no similarity.\n",
    "print(model.wv.similarity('loud', 'aloud'))\n",
    "print(model.wv.similarity('mr', 'mrs'))\n",
    "\n",
    "# One of these things is not like the other...\n",
    "print(model.doesnt_match(\"breakfast marriage dinner lunch\".split()))"
   ]
  },
  {
   "cell_type": "markdown",
   "metadata": {},
   "source": [
    "### Iteration"
   ]
  },
  {
   "cell_type": "code",
   "execution_count": 16,
   "metadata": {
    "run_control": {
     "frozen": false,
     "read_only": false
    },
    "scrolled": true
   },
   "outputs": [
    {
     "name": "stdout",
     "output_type": "stream",
     "text": [
      "[('people', 0.523370623588562), ('cordial', 0.4126809239387512), ('fine', 0.398892879486084), ('monstrous', 0.38834452629089355), ('abroad', 0.3863050937652588), ('dreadful', 0.37943828105926514), ('way', 0.37533122301101685), ('ought', 0.3673796057701111), ('winthrop', 0.3664364218711853), ('anne', 0.3635774254798889)]\n",
      "\n",
      "\n",
      "0.7610396\n",
      "0.18682437\n",
      "marriage\n"
     ]
    },
    {
     "name": "stderr",
     "output_type": "stream",
     "text": [
      "/anaconda3/lib/python3.6/site-packages/gensim/matutils.py:737: FutureWarning: Conversion of the second argument of issubdtype from `int` to `np.signedinteger` is deprecated. In future, it will be treated as `np.int64 == np.dtype(int).type`.\n",
      "  if np.issubdtype(vec.dtype, np.int):\n",
      "/anaconda3/lib/python3.6/site-packages/ipykernel_launcher.py:26: DeprecationWarning: Call to deprecated `doesnt_match` (Method will be removed in 4.0.0, use self.wv.doesnt_match() instead).\n"
     ]
    }
   ],
   "source": [
    "# Tinker with hyperparameters here.\n",
    "\n",
    "model = word2vec.Word2Vec(\n",
    "    sentences,\n",
    "    workers=4,     # Number of threads to run in parallel (if your computer does parallel processing).\n",
    "    min_count=10,  # Minimum word count threshold.\n",
    "    window=8,      # Number of words around target word to consider.\n",
    "    sg=0,          # Use CBOW because our corpus is small.\n",
    "    sample=1e-3 ,  # Penalize frequent words.\n",
    "    size=300,      # Word vector length.\n",
    "    hs=1           # Use hierarchical softmax.\n",
    ")\n",
    "\n",
    "# List of words in model.\n",
    "vocab = model.wv.vocab.keys()\n",
    "\n",
    "print(model.wv.most_similar(positive=['lady', 'man'], negative=['woman']))\n",
    "print('\\n')\n",
    "\n",
    "# Similarity is calculated using the cosine, so again 1 is total\n",
    "# similarity and 0 is no similarity.\n",
    "print(model.wv.similarity('loud', 'aloud'))\n",
    "print(model.wv.similarity('mr', 'mrs'))\n",
    "\n",
    "# One of these things is not like the other...\n",
    "print(model.doesnt_match(\"breakfast marriage dinner lunch\".split()))"
   ]
  },
  {
   "cell_type": "markdown",
   "metadata": {},
   "source": [
    "### Iteration"
   ]
  },
  {
   "cell_type": "code",
   "execution_count": 17,
   "metadata": {
    "run_control": {
     "frozen": false,
     "read_only": false
    },
    "scrolled": false
   },
   "outputs": [
    {
     "name": "stdout",
     "output_type": "stream",
     "text": [
      "[('meet', 0.5692358016967773), ('please', 0.563198447227478), ('kellynch', 0.5623747706413269), ('entertain', 0.5503693222999573), ('worth', 0.539549708366394), ('polite', 0.5383217334747314), ('hall', 0.5360033512115479), ('russell', 0.5262104272842407), ('introduce', 0.5252732038497925), ('drop', 0.5157787799835205)]\n",
      "\n",
      "\n",
      "0.69841826\n",
      "0.56567967\n",
      "marriage\n"
     ]
    },
    {
     "name": "stderr",
     "output_type": "stream",
     "text": [
      "/anaconda3/lib/python3.6/site-packages/gensim/matutils.py:737: FutureWarning: Conversion of the second argument of issubdtype from `int` to `np.signedinteger` is deprecated. In future, it will be treated as `np.int64 == np.dtype(int).type`.\n",
      "  if np.issubdtype(vec.dtype, np.int):\n",
      "/anaconda3/lib/python3.6/site-packages/ipykernel_launcher.py:26: DeprecationWarning: Call to deprecated `doesnt_match` (Method will be removed in 4.0.0, use self.wv.doesnt_match() instead).\n"
     ]
    }
   ],
   "source": [
    "# Tinker with hyperparameters here.\n",
    "\n",
    "model = word2vec.Word2Vec(\n",
    "    sentences,\n",
    "    workers=4,     # Number of threads to run in parallel (if your computer does parallel processing).\n",
    "    min_count=10,  # Minimum word count threshold.\n",
    "    window=6,      # Number of words around target word to consider.\n",
    "    sg=1,          # Use CBOW because our corpus is small.\n",
    "    sample=1e-3 ,  # Penalize frequent words.\n",
    "    size=300,      # Word vector length.\n",
    "    hs=1           # Use hierarchical softmax.\n",
    ")\n",
    "\n",
    "# List of words in model.\n",
    "vocab = model.wv.vocab.keys()\n",
    "\n",
    "print(model.wv.most_similar(positive=['lady', 'man'], negative=['woman']))\n",
    "print('\\n')\n",
    "\n",
    "# Similarity is calculated using the cosine, so again 1 is total\n",
    "# similarity and 0 is no similarity.\n",
    "print(model.wv.similarity('loud', 'aloud'))\n",
    "print(model.wv.similarity('mr', 'mrs'))\n",
    "\n",
    "# One of these things is not like the other...\n",
    "print(model.doesnt_match(\"breakfast marriage dinner lunch\".split()))"
   ]
  },
  {
   "cell_type": "markdown",
   "metadata": {},
   "source": [
    "### Iteration"
   ]
  },
  {
   "cell_type": "code",
   "execution_count": 18,
   "metadata": {
    "run_control": {
     "frozen": false,
     "read_only": false
    },
    "scrolled": false
   },
   "outputs": [
    {
     "name": "stdout",
     "output_type": "stream",
     "text": [
      "[('mother', 0.979598879814148), ('year', 0.9794370532035828), ('family', 0.9793519377708435), ('give', 0.9793475270271301), ('feeling', 0.9791440963745117), ('house', 0.9790881276130676), ('place', 0.9786862134933472), ('people', 0.9786702990531921), ('mind', 0.9785785675048828), ('old', 0.9783843755722046)]\n",
      "\n",
      "\n",
      "0.9991087\n",
      "0.9917786\n",
      "marriage\n"
     ]
    },
    {
     "name": "stderr",
     "output_type": "stream",
     "text": [
      "/anaconda3/lib/python3.6/site-packages/gensim/matutils.py:737: FutureWarning: Conversion of the second argument of issubdtype from `int` to `np.signedinteger` is deprecated. In future, it will be treated as `np.int64 == np.dtype(int).type`.\n",
      "  if np.issubdtype(vec.dtype, np.int):\n",
      "/anaconda3/lib/python3.6/site-packages/ipykernel_launcher.py:26: DeprecationWarning: Call to deprecated `doesnt_match` (Method will be removed in 4.0.0, use self.wv.doesnt_match() instead).\n"
     ]
    }
   ],
   "source": [
    "# Tinker with hyperparameters here.\n",
    "\n",
    "model = word2vec.Word2Vec(\n",
    "    sentences,\n",
    "    workers=4,     # Number of threads to run in parallel (if your computer does parallel processing).\n",
    "    min_count=10,  # Minimum word count threshold.\n",
    "    window=6,      # Number of words around target word to consider.\n",
    "    sg=0,          # Use CBOW because our corpus is small.\n",
    "    sample=1e-3 ,  # Penalize frequent words.\n",
    "    size=300,      # Word vector length.\n",
    "    hs=0           # Use hierarchical softmax.\n",
    ")\n",
    "\n",
    "# List of words in model.\n",
    "vocab = model.wv.vocab.keys()\n",
    "\n",
    "print(model.wv.most_similar(positive=['lady', 'man'], negative=['woman']))\n",
    "print('\\n')\n",
    "\n",
    "# Similarity is calculated using the cosine, so again 1 is total\n",
    "# similarity and 0 is no similarity.\n",
    "print(model.wv.similarity('loud', 'aloud'))\n",
    "print(model.wv.similarity('mr', 'mrs'))\n",
    "\n",
    "# One of these things is not like the other...\n",
    "print(model.doesnt_match(\"breakfast marriage dinner lunch\".split()))"
   ]
  },
  {
   "cell_type": "markdown",
   "metadata": {},
   "source": [
    "## Drill 0 Conclusions"
   ]
  },
  {
   "cell_type": "markdown",
   "metadata": {},
   "source": [
    "Both negative sampling and a lower \"sample\" parameter led to overinflated similarities."
   ]
  },
  {
   "cell_type": "markdown",
   "metadata": {
    "run_control": {
     "frozen": false,
     "read_only": false
    }
   },
   "source": [
    "# Example word2vec applications\n",
    "\n",
    "You can use the vectors from word2vec as features in other models, or try to gain insight from the vector compositions themselves.\n",
    "\n",
    "Here are some neat things people have done with word2vec:\n",
    "\n",
    " * [Visualizing word embeddings in Jane Austen's Pride and Prejudice](http://blogger.ghostweather.com/2014/11/visualizing-word-embeddings-in-pride.html). Skip to the bottom to see a _truly honest_ account of this data scientist's process.\n",
    "\n",
    " * [Tracking changes in Dutch Newspapers' associations with words like 'propaganda' and 'alien' from 1950 to 1990](https://www.slideshare.net/MelvinWevers/concepts-through-time-tracing-concepts-in-dutch-newspaper-discourse-using-sequential-word-vector-spaces).\n",
    "\n",
    " * [Helping customers find clothing items similar to a given item but differing on one or more characteristics](http://multithreaded.stitchfix.com/blog/2015/03/11/word-is-worth-a-thousand-vectors/)."
   ]
  },
  {
   "cell_type": "markdown",
   "metadata": {},
   "source": [
    "## Drill 1: Word2Vec on 100B+ words\n",
    "\n",
    "As we mentioned, word2vec really works best on a big corpus, but it can take half a day to clean such a corpus and run word2vec on it.  Fortunately, there are word2vec models available that have already been trained on _really_ big corpora. They are big files, but you can download a [pretrained model of your choice here](https://github.com/3Top/word2vec-api). At minimum, the ones built with word2vec (check the \"Architecture\" column) should load smoothly using an appropriately modified version of the code below, and you can play to your heart's content.\n",
    "\n",
    "Because the models are so large, however, you may run into memory problems or crash the kernel. If you can't get a pretrained model to run locally, check out this [interactive web app of the Google News model](https://rare-technologies.com/word2vec-tutorial/#bonus_app) instead.\n",
    "\n",
    "However you access it, play around with a pretrained model. Is there anything interesting you're able to pull out about analogies, similar words, or words that don't match? Write up a quick note about your tinkering and discuss it with your mentor during your next session."
   ]
  },
  {
   "cell_type": "code",
   "execution_count": 19,
   "metadata": {
    "run_control": {
     "frozen": false,
     "read_only": false
    }
   },
   "outputs": [],
   "source": [
    "# Load Google's pre-trained Word2Vec model.\n",
    "model = gensim.models.KeyedVectors.load_word2vec_format ('GoogleNews-vectors-negative300.bin', binary=True)"
   ]
  },
  {
   "cell_type": "code",
   "execution_count": 20,
   "metadata": {},
   "outputs": [],
   "source": [
    "# Play around with your pretrained model here.\n",
    "\n",
    "# List of words in model.\n",
    "vocab = model.vocab.keys()\n"
   ]
  },
  {
   "cell_type": "code",
   "execution_count": 21,
   "metadata": {},
   "outputs": [
    {
     "data": {
      "text/plain": [
       "3000000"
      ]
     },
     "execution_count": 21,
     "metadata": {},
     "output_type": "execute_result"
    }
   ],
   "source": [
    "len(vocab)"
   ]
  },
  {
   "cell_type": "code",
   "execution_count": 43,
   "metadata": {},
   "outputs": [
    {
     "data": {
      "text/plain": [
       "True"
      ]
     },
     "execution_count": 43,
     "metadata": {},
     "output_type": "execute_result"
    }
   ],
   "source": [
    "'bicycle' in vocab"
   ]
  },
  {
   "cell_type": "code",
   "execution_count": 45,
   "metadata": {},
   "outputs": [
    {
     "data": {
      "text/plain": [
       "<gensim.models.keyedvectors.Vocab at 0x1a27b84da0>"
      ]
     },
     "execution_count": 45,
     "metadata": {},
     "output_type": "execute_result"
    }
   ],
   "source": [
    "model.vocab['bicycle']"
   ]
  },
  {
   "cell_type": "code",
   "execution_count": 46,
   "metadata": {},
   "outputs": [
    {
     "data": {
      "text/plain": [
       "<gensim.models.keyedvectors.Vocab at 0x1a2f5bdf98>"
      ]
     },
     "execution_count": 46,
     "metadata": {},
     "output_type": "execute_result"
    }
   ],
   "source": [
    "model.vocab['demon']"
   ]
  },
  {
   "cell_type": "code",
   "execution_count": 22,
   "metadata": {
    "run_control": {
     "frozen": false,
     "read_only": false
    },
    "scrolled": true
   },
   "outputs": [
    {
     "name": "stderr",
     "output_type": "stream",
     "text": [
      "/anaconda3/lib/python3.6/site-packages/gensim/matutils.py:737: FutureWarning: Conversion of the second argument of issubdtype from `int` to `np.signedinteger` is deprecated. In future, it will be treated as `np.int64 == np.dtype(int).type`.\n",
      "  if np.issubdtype(vec.dtype, np.int):\n"
     ]
    },
    {
     "name": "stdout",
     "output_type": "stream",
     "text": [
      "[('fella', 0.6031545400619507), ('gentleman', 0.5849649906158447), ('chap', 0.5543248653411865), ('gent', 0.543907880783081), ('guy', 0.5265033841133118), ('lad', 0.5139425992965698), ('feller', 0.5072450041770935), ('bloke', 0.49030160903930664), ('rascal', 0.4873698949813843), ('ladies', 0.47617611289024353)]\n",
      "\n",
      "\n",
      "0.38398623\n",
      "0.66098833\n",
      "marriage\n"
     ]
    }
   ],
   "source": [
    "\n",
    "print(model.most_similar(positive=['lady', 'man'], negative=['woman']))\n",
    "print('\\n')\n",
    "\n",
    "# Similarity is calculated using the cosine, so again 1 is total\n",
    "# similarity and 0 is no similarity.\n",
    "print(model.similarity('loud', 'aloud'))\n",
    "print(model.similarity('mr', 'mrs'))\n",
    "\n",
    "# One of these things is not like the other...\n",
    "print(model.doesnt_match(\"breakfast marriage dinner lunch\".split()))\n"
   ]
  },
  {
   "cell_type": "markdown",
   "metadata": {},
   "source": [
    "The pretrained model is able to complete the analogy correctly, with terms that correspond to alternate ways of referring to men. However, many of these words lack the appropriate formality of \"gentleman\" or \"gent,' perhaps because of common modern-day casual usage of \"lady.\" At least \"germ\" wasn't in the top 10."
   ]
  },
  {
   "cell_type": "code",
   "execution_count": 23,
   "metadata": {},
   "outputs": [
    {
     "name": "stdout",
     "output_type": "stream",
     "text": [
      "0.76094574\n",
      "0.5207694\n",
      "0.4035246\n",
      "0.2832825\n",
      "\n",
      "\n",
      "0.09537769\n",
      "0.24715711\n",
      "0.052280243\n",
      "\n",
      "\n",
      "0.03710579\n",
      "0.054001525\n",
      "0.09184816\n",
      "0.080776885\n",
      "\n",
      "\n",
      "0.2567619\n",
      "0.075048946\n",
      "0.3623707\n",
      "0.2624267\n"
     ]
    },
    {
     "name": "stderr",
     "output_type": "stream",
     "text": [
      "/anaconda3/lib/python3.6/site-packages/gensim/matutils.py:737: FutureWarning: Conversion of the second argument of issubdtype from `int` to `np.signedinteger` is deprecated. In future, it will be treated as `np.int64 == np.dtype(int).type`.\n",
      "  if np.issubdtype(vec.dtype, np.int):\n"
     ]
    }
   ],
   "source": [
    "print(model.similarity('cat', 'dog'))\n",
    "print(model.similarity('cat', 'lizard'))\n",
    "print(model.similarity('cat', 'cow'))\n",
    "print(model.similarity('cat', 'ant'))\n",
    "print('\\n')\n",
    "print(model.similarity('cat', 'hammer'))\n",
    "print(model.similarity('cat', 'bagel'))\n",
    "print(model.similarity('cat', 'dignity'))\n",
    "print('\\n')\n",
    "print(model.similarity('cat', 'spindle'))\n",
    "print(model.similarity('cat', 'ergonomic'))\n",
    "print(model.similarity('cat', 'axiom'))\n",
    "print(model.similarity('cat', 'relinquish'))\n",
    "print('\\n')\n",
    "print(model.similarity('cat', 'fuzzy'))\n",
    "print(model.similarity('cat', 'cradle'))\n",
    "print(model.similarity('cat', 'claws'))\n",
    "print(model.similarity('cat', 'pajamas'))"
   ]
  },
  {
   "cell_type": "code",
   "execution_count": 24,
   "metadata": {
    "scrolled": true
   },
   "outputs": [
    {
     "name": "stdout",
     "output_type": "stream",
     "text": [
      "0.2717482\n",
      "0.27857122\n",
      "0.24203287\n",
      "0.31065407\n",
      "0.34142017\n",
      "0.30789012\n",
      "\n",
      "\n",
      "0.3440333\n",
      "\n",
      "\n",
      "0.4046733\n",
      "0.4530429\n",
      "0.26714057\n",
      "0.44822454\n",
      "0.21647625\n",
      "\n",
      "\n",
      "0.27012914\n"
     ]
    },
    {
     "name": "stderr",
     "output_type": "stream",
     "text": [
      "/anaconda3/lib/python3.6/site-packages/gensim/matutils.py:737: FutureWarning: Conversion of the second argument of issubdtype from `int` to `np.signedinteger` is deprecated. In future, it will be treated as `np.int64 == np.dtype(int).type`.\n",
      "  if np.issubdtype(vec.dtype, np.int):\n"
     ]
    }
   ],
   "source": [
    "print(model.similarity('break', 'pause'))\n",
    "print(model.similarity('break', 'intermission'))\n",
    "print(model.similarity('break', 'rest'))\n",
    "print(model.similarity('break', 'interval'))\n",
    "print(model.similarity('break', 'lull'))\n",
    "print(model.similarity('break', 'respite'))\n",
    "print('\\n')\n",
    "print(model.similarity('break', 'escape'))\n",
    "print('\\n')\n",
    "print(model.similarity('break', 'smash'))\n",
    "print(model.similarity('break', 'shatter'))\n",
    "print(model.similarity('break', 'destroy'))\n",
    "print(model.similarity('break', 'crack'))\n",
    "print(model.similarity('break', 'fracture'))\n",
    "print('\\n')\n",
    "print(model.similarity('brake', 'stop'))\n",
    "\n"
   ]
  },
  {
   "cell_type": "code",
   "execution_count": 25,
   "metadata": {
    "scrolled": true
   },
   "outputs": [
    {
     "name": "stderr",
     "output_type": "stream",
     "text": [
      "/anaconda3/lib/python3.6/site-packages/gensim/matutils.py:737: FutureWarning: Conversion of the second argument of issubdtype from `int` to `np.signedinteger` is deprecated. In future, it will be treated as `np.int64 == np.dtype(int).type`.\n",
      "  if np.issubdtype(vec.dtype, np.int):\n"
     ]
    },
    {
     "name": "stdout",
     "output_type": "stream",
     "text": [
      "[('shirts', 0.6786606907844543), ('t_shirt', 0.6128919720649719), ('T_shirt', 0.6011109352111816), ('jacket', 0.5979953408241272), ('blazer', 0.593267560005188), ('sweatshirt', 0.5822854042053223), ('sweater', 0.5800738334655762), ('jeans', 0.5789099931716919), ('trousers', 0.5755550861358643), ('polo_shirts', 0.5674843788146973)]\n",
      "\n",
      "\n"
     ]
    }
   ],
   "source": [
    "print(model.most_similar(positive=['pants', 'shirt'], negative=['torso']))\n",
    "print('\\n')"
   ]
  },
  {
   "cell_type": "code",
   "execution_count": 26,
   "metadata": {
    "scrolled": true
   },
   "outputs": [
    {
     "name": "stderr",
     "output_type": "stream",
     "text": [
      "/anaconda3/lib/python3.6/site-packages/gensim/matutils.py:737: FutureWarning: Conversion of the second argument of issubdtype from `int` to `np.signedinteger` is deprecated. In future, it will be treated as `np.int64 == np.dtype(int).type`.\n",
      "  if np.issubdtype(vec.dtype, np.int):\n"
     ]
    },
    {
     "name": "stdout",
     "output_type": "stream",
     "text": [
      "[('runs', 0.5420483946800232), ('running', 0.5055066347122192), ('go', 0.44135770201683044), ('walk', 0.39560920000076294), ('do', 0.3941177427768707), ('drive', 0.39071887731552124), ('Mark_Grudzielanek_singled', 0.3755759596824646), ('surpass_Hank_Aaron', 0.37111562490463257), ('operate', 0.3666856288909912), ('homerun', 0.3659612834453583)]\n",
      "\n",
      "\n"
     ]
    }
   ],
   "source": [
    "print(model.most_similar(positive=['think', 'run'], negative=['thought']))\n",
    "print('\\n')"
   ]
  },
  {
   "cell_type": "code",
   "execution_count": 27,
   "metadata": {},
   "outputs": [
    {
     "name": "stdout",
     "output_type": "stream",
     "text": [
      "applesauce\n"
     ]
    },
    {
     "name": "stderr",
     "output_type": "stream",
     "text": [
      "/anaconda3/lib/python3.6/site-packages/gensim/matutils.py:737: FutureWarning: Conversion of the second argument of issubdtype from `int` to `np.signedinteger` is deprecated. In future, it will be treated as `np.int64 == np.dtype(int).type`.\n",
      "  if np.issubdtype(vec.dtype, np.int):\n"
     ]
    }
   ],
   "source": [
    "# One of these things is not like the other...\n",
    "print(model.doesnt_match(\"rain snow applesauce sleet\".split()))"
   ]
  },
  {
   "cell_type": "code",
   "execution_count": 28,
   "metadata": {},
   "outputs": [
    {
     "name": "stdout",
     "output_type": "stream",
     "text": [
      "potato\n"
     ]
    },
    {
     "name": "stderr",
     "output_type": "stream",
     "text": [
      "/anaconda3/lib/python3.6/site-packages/gensim/matutils.py:737: FutureWarning: Conversion of the second argument of issubdtype from `int` to `np.signedinteger` is deprecated. In future, it will be treated as `np.int64 == np.dtype(int).type`.\n",
      "  if np.issubdtype(vec.dtype, np.int):\n"
     ]
    }
   ],
   "source": [
    "# One of these things is not like the other...\n",
    "print(model.doesnt_match(\"electron proton neutron potato\".split()))"
   ]
  },
  {
   "cell_type": "code",
   "execution_count": 29,
   "metadata": {},
   "outputs": [
    {
     "name": "stdout",
     "output_type": "stream",
     "text": [
      "destroy\n"
     ]
    },
    {
     "name": "stderr",
     "output_type": "stream",
     "text": [
      "/anaconda3/lib/python3.6/site-packages/gensim/matutils.py:737: FutureWarning: Conversion of the second argument of issubdtype from `int` to `np.signedinteger` is deprecated. In future, it will be treated as `np.int64 == np.dtype(int).type`.\n",
      "  if np.issubdtype(vec.dtype, np.int):\n"
     ]
    }
   ],
   "source": [
    "# One of these things is not like the other...\n",
    "print(model.doesnt_match(\"break shatter destroy smash\".split()))"
   ]
  },
  {
   "cell_type": "code",
   "execution_count": 30,
   "metadata": {},
   "outputs": [
    {
     "name": "stdout",
     "output_type": "stream",
     "text": [
      "break\n"
     ]
    },
    {
     "name": "stderr",
     "output_type": "stream",
     "text": [
      "/anaconda3/lib/python3.6/site-packages/gensim/matutils.py:737: FutureWarning: Conversion of the second argument of issubdtype from `int` to `np.signedinteger` is deprecated. In future, it will be treated as `np.int64 == np.dtype(int).type`.\n",
      "  if np.issubdtype(vec.dtype, np.int):\n"
     ]
    }
   ],
   "source": [
    "# One of these things is not like the other...\n",
    "print(model.doesnt_match(\"break pause hiatus\".split()))"
   ]
  },
  {
   "cell_type": "markdown",
   "metadata": {},
   "source": [
    "## Extension: Working with filetype other than \".bin\""
   ]
  },
  {
   "cell_type": "code",
   "execution_count": 31,
   "metadata": {
    "run_control": {
     "frozen": false,
     "read_only": false
    },
    "scrolled": false
   },
   "outputs": [
    {
     "ename": "FileNotFoundError",
     "evalue": "[Errno 2] No such file or directory: 'glove.twitter.27B/glove.twitter.27B.200d.txt'",
     "output_type": "error",
     "traceback": [
      "\u001b[0;31m---------------------------------------------------------------------------\u001b[0m",
      "\u001b[0;31mFileNotFoundError\u001b[0m                         Traceback (most recent call last)",
      "\u001b[0;32m<ipython-input-31-86d9bd135d3a>\u001b[0m in \u001b[0;36m<module>\u001b[0;34m()\u001b[0m\n\u001b[0;32m----> 1\u001b[0;31m \u001b[0mmodel\u001b[0m \u001b[0;34m=\u001b[0m \u001b[0mgensim\u001b[0m\u001b[0;34m.\u001b[0m\u001b[0mmodels\u001b[0m\u001b[0;34m.\u001b[0m\u001b[0mKeyedVectors\u001b[0m\u001b[0;34m.\u001b[0m\u001b[0mload_word2vec_format\u001b[0m \u001b[0;34m(\u001b[0m\u001b[0;34m'glove.twitter.27B/glove.twitter.27B.200d.txt'\u001b[0m\u001b[0;34m,\u001b[0m \u001b[0mbinary\u001b[0m\u001b[0;34m=\u001b[0m\u001b[0;32mTrue\u001b[0m\u001b[0;34m)\u001b[0m\u001b[0;34m\u001b[0m\u001b[0m\n\u001b[0m",
      "\u001b[0;32m/anaconda3/lib/python3.6/site-packages/gensim/models/keyedvectors.py\u001b[0m in \u001b[0;36mload_word2vec_format\u001b[0;34m(cls, fname, fvocab, binary, encoding, unicode_errors, limit, datatype)\u001b[0m\n\u001b[1;32m   1436\u001b[0m         return _load_word2vec_format(\n\u001b[1;32m   1437\u001b[0m             \u001b[0mcls\u001b[0m\u001b[0;34m,\u001b[0m \u001b[0mfname\u001b[0m\u001b[0;34m,\u001b[0m \u001b[0mfvocab\u001b[0m\u001b[0;34m=\u001b[0m\u001b[0mfvocab\u001b[0m\u001b[0;34m,\u001b[0m \u001b[0mbinary\u001b[0m\u001b[0;34m=\u001b[0m\u001b[0mbinary\u001b[0m\u001b[0;34m,\u001b[0m \u001b[0mencoding\u001b[0m\u001b[0;34m=\u001b[0m\u001b[0mencoding\u001b[0m\u001b[0;34m,\u001b[0m \u001b[0municode_errors\u001b[0m\u001b[0;34m=\u001b[0m\u001b[0municode_errors\u001b[0m\u001b[0;34m,\u001b[0m\u001b[0;34m\u001b[0m\u001b[0m\n\u001b[0;32m-> 1438\u001b[0;31m             limit=limit, datatype=datatype)\n\u001b[0m\u001b[1;32m   1439\u001b[0m \u001b[0;34m\u001b[0m\u001b[0m\n\u001b[1;32m   1440\u001b[0m     \u001b[0;32mdef\u001b[0m \u001b[0mget_keras_embedding\u001b[0m\u001b[0;34m(\u001b[0m\u001b[0mself\u001b[0m\u001b[0;34m,\u001b[0m \u001b[0mtrain_embeddings\u001b[0m\u001b[0;34m=\u001b[0m\u001b[0;32mFalse\u001b[0m\u001b[0;34m)\u001b[0m\u001b[0;34m:\u001b[0m\u001b[0;34m\u001b[0m\u001b[0m\n",
      "\u001b[0;32m/anaconda3/lib/python3.6/site-packages/gensim/models/utils_any2vec.py\u001b[0m in \u001b[0;36m_load_word2vec_format\u001b[0;34m(cls, fname, fvocab, binary, encoding, unicode_errors, limit, datatype)\u001b[0m\n\u001b[1;32m    169\u001b[0m \u001b[0;34m\u001b[0m\u001b[0m\n\u001b[1;32m    170\u001b[0m     \u001b[0mlogger\u001b[0m\u001b[0;34m.\u001b[0m\u001b[0minfo\u001b[0m\u001b[0;34m(\u001b[0m\u001b[0;34m\"loading projection weights from %s\"\u001b[0m\u001b[0;34m,\u001b[0m \u001b[0mfname\u001b[0m\u001b[0;34m)\u001b[0m\u001b[0;34m\u001b[0m\u001b[0m\n\u001b[0;32m--> 171\u001b[0;31m     \u001b[0;32mwith\u001b[0m \u001b[0mutils\u001b[0m\u001b[0;34m.\u001b[0m\u001b[0msmart_open\u001b[0m\u001b[0;34m(\u001b[0m\u001b[0mfname\u001b[0m\u001b[0;34m)\u001b[0m \u001b[0;32mas\u001b[0m \u001b[0mfin\u001b[0m\u001b[0;34m:\u001b[0m\u001b[0;34m\u001b[0m\u001b[0m\n\u001b[0m\u001b[1;32m    172\u001b[0m         \u001b[0mheader\u001b[0m \u001b[0;34m=\u001b[0m \u001b[0mutils\u001b[0m\u001b[0;34m.\u001b[0m\u001b[0mto_unicode\u001b[0m\u001b[0;34m(\u001b[0m\u001b[0mfin\u001b[0m\u001b[0;34m.\u001b[0m\u001b[0mreadline\u001b[0m\u001b[0;34m(\u001b[0m\u001b[0;34m)\u001b[0m\u001b[0;34m,\u001b[0m \u001b[0mencoding\u001b[0m\u001b[0;34m=\u001b[0m\u001b[0mencoding\u001b[0m\u001b[0;34m)\u001b[0m\u001b[0;34m\u001b[0m\u001b[0m\n\u001b[1;32m    173\u001b[0m         \u001b[0mvocab_size\u001b[0m\u001b[0;34m,\u001b[0m \u001b[0mvector_size\u001b[0m \u001b[0;34m=\u001b[0m \u001b[0;34m(\u001b[0m\u001b[0mint\u001b[0m\u001b[0;34m(\u001b[0m\u001b[0mx\u001b[0m\u001b[0;34m)\u001b[0m \u001b[0;32mfor\u001b[0m \u001b[0mx\u001b[0m \u001b[0;32min\u001b[0m \u001b[0mheader\u001b[0m\u001b[0;34m.\u001b[0m\u001b[0msplit\u001b[0m\u001b[0;34m(\u001b[0m\u001b[0;34m)\u001b[0m\u001b[0;34m)\u001b[0m  \u001b[0;31m# throws for invalid file format\u001b[0m\u001b[0;34m\u001b[0m\u001b[0m\n",
      "\u001b[0;32m/anaconda3/lib/python3.6/site-packages/smart_open/smart_open_lib.py\u001b[0m in \u001b[0;36msmart_open\u001b[0;34m(uri, mode, **kw)\u001b[0m\n\u001b[1;32m    179\u001b[0m         \u001b[0;32mraise\u001b[0m \u001b[0mTypeError\u001b[0m\u001b[0;34m(\u001b[0m\u001b[0;34m'mode should be a string'\u001b[0m\u001b[0;34m)\u001b[0m\u001b[0;34m\u001b[0m\u001b[0m\n\u001b[1;32m    180\u001b[0m \u001b[0;34m\u001b[0m\u001b[0m\n\u001b[0;32m--> 181\u001b[0;31m     \u001b[0mfobj\u001b[0m \u001b[0;34m=\u001b[0m \u001b[0m_shortcut_open\u001b[0m\u001b[0;34m(\u001b[0m\u001b[0muri\u001b[0m\u001b[0;34m,\u001b[0m \u001b[0mmode\u001b[0m\u001b[0;34m,\u001b[0m \u001b[0;34m**\u001b[0m\u001b[0mkw\u001b[0m\u001b[0;34m)\u001b[0m\u001b[0;34m\u001b[0m\u001b[0m\n\u001b[0m\u001b[1;32m    182\u001b[0m     \u001b[0;32mif\u001b[0m \u001b[0mfobj\u001b[0m \u001b[0;32mis\u001b[0m \u001b[0;32mnot\u001b[0m \u001b[0;32mNone\u001b[0m\u001b[0;34m:\u001b[0m\u001b[0;34m\u001b[0m\u001b[0m\n\u001b[1;32m    183\u001b[0m         \u001b[0;32mreturn\u001b[0m \u001b[0mfobj\u001b[0m\u001b[0;34m\u001b[0m\u001b[0m\n",
      "\u001b[0;32m/anaconda3/lib/python3.6/site-packages/smart_open/smart_open_lib.py\u001b[0m in \u001b[0;36m_shortcut_open\u001b[0;34m(uri, mode, **kw)\u001b[0m\n\u001b[1;32m    299\u001b[0m     \u001b[0;31m#\u001b[0m\u001b[0;34m\u001b[0m\u001b[0;34m\u001b[0m\u001b[0m\n\u001b[1;32m    300\u001b[0m     \u001b[0;32mif\u001b[0m \u001b[0msix\u001b[0m\u001b[0;34m.\u001b[0m\u001b[0mPY3\u001b[0m\u001b[0;34m:\u001b[0m\u001b[0;34m\u001b[0m\u001b[0m\n\u001b[0;32m--> 301\u001b[0;31m         \u001b[0;32mreturn\u001b[0m \u001b[0mopen\u001b[0m\u001b[0;34m(\u001b[0m\u001b[0mparsed_uri\u001b[0m\u001b[0;34m.\u001b[0m\u001b[0muri_path\u001b[0m\u001b[0;34m,\u001b[0m \u001b[0mmode\u001b[0m\u001b[0;34m,\u001b[0m \u001b[0mbuffering\u001b[0m\u001b[0;34m=\u001b[0m\u001b[0mbuffering\u001b[0m\u001b[0;34m,\u001b[0m \u001b[0;34m**\u001b[0m\u001b[0mopen_kwargs\u001b[0m\u001b[0;34m)\u001b[0m\u001b[0;34m\u001b[0m\u001b[0m\n\u001b[0m\u001b[1;32m    302\u001b[0m     \u001b[0;32melif\u001b[0m \u001b[0;32mnot\u001b[0m \u001b[0mopen_kwargs\u001b[0m\u001b[0;34m:\u001b[0m\u001b[0;34m\u001b[0m\u001b[0m\n\u001b[1;32m    303\u001b[0m         \u001b[0;32mreturn\u001b[0m \u001b[0mopen\u001b[0m\u001b[0;34m(\u001b[0m\u001b[0mparsed_uri\u001b[0m\u001b[0;34m.\u001b[0m\u001b[0muri_path\u001b[0m\u001b[0;34m,\u001b[0m \u001b[0mmode\u001b[0m\u001b[0;34m,\u001b[0m \u001b[0mbuffering\u001b[0m\u001b[0;34m=\u001b[0m\u001b[0mbuffering\u001b[0m\u001b[0;34m)\u001b[0m\u001b[0;34m\u001b[0m\u001b[0m\n",
      "\u001b[0;31mFileNotFoundError\u001b[0m: [Errno 2] No such file or directory: 'glove.twitter.27B/glove.twitter.27B.200d.txt'"
     ]
    }
   ],
   "source": [
    "model = gensim.models.KeyedVectors.load_word2vec_format ('glove.twitter.27B/glove.twitter.27B.200d.txt', binary=True)"
   ]
  },
  {
   "cell_type": "code",
   "execution_count": null,
   "metadata": {},
   "outputs": [],
   "source": []
  }
 ],
 "metadata": {
  "hide_input": false,
  "kernelspec": {
   "display_name": "Python 3",
   "language": "python",
   "name": "python3"
  },
  "language_info": {
   "codemirror_mode": {
    "name": "ipython",
    "version": 3
   },
   "file_extension": ".py",
   "mimetype": "text/x-python",
   "name": "python",
   "nbconvert_exporter": "python",
   "pygments_lexer": "ipython3",
   "version": "3.6.5"
  },
  "toc": {
   "base_numbering": 1,
   "nav_menu": {
    "height": "96px",
    "width": "252px"
   },
   "number_sections": true,
   "sideBar": true,
   "skip_h1_title": false,
   "title_cell": "Table of Contents",
   "title_sidebar": "Contents",
   "toc_cell": false,
   "toc_position": {},
   "toc_section_display": "block",
   "toc_window_display": true
  }
 },
 "nbformat": 4,
 "nbformat_minor": 2
}
